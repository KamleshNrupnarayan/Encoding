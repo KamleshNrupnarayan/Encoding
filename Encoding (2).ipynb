{
 "cells": [
  {
   "cell_type": "code",
   "execution_count": null,
   "id": "ebd06c36-909e-4b07-801d-a7a73a9f8613",
   "metadata": {},
   "outputs": [],
   "source": [
    "#KAMLESH S NRUPNARAYAN\n",
    "#USN:21BTRCD014"
   ]
  },
  {
   "cell_type": "code",
   "execution_count": 15,
   "id": "233bda8c-49dc-4398-96a4-dd910e47e6d9",
   "metadata": {},
   "outputs": [],
   "source": [
    "import pandas as pd\n",
    "import numpy as np"
   ]
  },
  {
   "cell_type": "code",
   "execution_count": null,
   "id": "b63f90e4-5afd-4e7e-9e0e-de9390f1718b",
   "metadata": {},
   "outputs": [],
   "source": [
    "Creating a dataset of house"
   ]
  },
  {
   "cell_type": "code",
   "execution_count": 16,
   "id": "2e39fe10-bf36-4ddb-b6c7-70bc3a0038f0",
   "metadata": {},
   "outputs": [],
   "source": [
    "#Creating a dataset of house\n",
    "\n",
    "data = {'Rooms': [3, 4, 2, 5, 3, 2, np.nan, 4],\n",
    "        'Bathrooms': [2, 3, 1, 4, 2, 1, 2, np.nan],\n",
    "        'Square_Footage': [1500, 2000, 1200, 2500, 1800, 1000, 1700, 2100],\n",
    "        'Neighborhood': ['Amaravati', 'Wardha', 'Rural', 'Market', 'Jabalpur', 'Rural', 'MP', 'Nagpur'],\n",
    "        'Year_Built': [1990, 2005, 1980, 2010, 2000, 1995, np.nan, 2015],\n",
    "        'Price': [500000, 600000, 450000, 700000, 800000, 350000, 550000, np.nan]}\n"
   ]
  },
  {
   "cell_type": "code",
   "execution_count": 17,
   "id": "fe74000f-5a6c-4e8e-ad68-3bf290eed9c5",
   "metadata": {},
   "outputs": [],
   "source": [
    "house_data = pd.DataFrame(data)\n"
   ]
  },
  {
   "cell_type": "markdown",
   "id": "23b0a637-a225-4d06-95c8-61cd9f4e5aa2",
   "metadata": {},
   "source": [
    "print(house_data)"
   ]
  },
  {
   "cell_type": "code",
   "execution_count": null,
   "id": "8fc06263-2dfd-4254-9591-0da6eb172055",
   "metadata": {},
   "outputs": [],
   "source": [
    "dropna()"
   ]
  },
  {
   "cell_type": "code",
   "execution_count": 19,
   "id": "d70739ef-3603-4fe4-b431-6b7207953d30",
   "metadata": {},
   "outputs": [
    {
     "data": {
      "text/html": [
       "<div>\n",
       "<style scoped>\n",
       "    .dataframe tbody tr th:only-of-type {\n",
       "        vertical-align: middle;\n",
       "    }\n",
       "\n",
       "    .dataframe tbody tr th {\n",
       "        vertical-align: top;\n",
       "    }\n",
       "\n",
       "    .dataframe thead th {\n",
       "        text-align: right;\n",
       "    }\n",
       "</style>\n",
       "<table border=\"1\" class=\"dataframe\">\n",
       "  <thead>\n",
       "    <tr style=\"text-align: right;\">\n",
       "      <th></th>\n",
       "      <th>Rooms</th>\n",
       "      <th>Bathrooms</th>\n",
       "      <th>Square_Footage</th>\n",
       "      <th>Neighborhood</th>\n",
       "      <th>Year_Built</th>\n",
       "      <th>Price</th>\n",
       "    </tr>\n",
       "  </thead>\n",
       "  <tbody>\n",
       "    <tr>\n",
       "      <th>0</th>\n",
       "      <td>3.0</td>\n",
       "      <td>2.0</td>\n",
       "      <td>1500</td>\n",
       "      <td>Amaravati</td>\n",
       "      <td>1990.0</td>\n",
       "      <td>500000.0</td>\n",
       "    </tr>\n",
       "    <tr>\n",
       "      <th>1</th>\n",
       "      <td>4.0</td>\n",
       "      <td>3.0</td>\n",
       "      <td>2000</td>\n",
       "      <td>Wardha</td>\n",
       "      <td>2005.0</td>\n",
       "      <td>600000.0</td>\n",
       "    </tr>\n",
       "    <tr>\n",
       "      <th>2</th>\n",
       "      <td>2.0</td>\n",
       "      <td>1.0</td>\n",
       "      <td>1200</td>\n",
       "      <td>Rural</td>\n",
       "      <td>1980.0</td>\n",
       "      <td>450000.0</td>\n",
       "    </tr>\n",
       "    <tr>\n",
       "      <th>3</th>\n",
       "      <td>5.0</td>\n",
       "      <td>4.0</td>\n",
       "      <td>2500</td>\n",
       "      <td>Market</td>\n",
       "      <td>2010.0</td>\n",
       "      <td>700000.0</td>\n",
       "    </tr>\n",
       "    <tr>\n",
       "      <th>4</th>\n",
       "      <td>3.0</td>\n",
       "      <td>2.0</td>\n",
       "      <td>1800</td>\n",
       "      <td>Jabalpur</td>\n",
       "      <td>2000.0</td>\n",
       "      <td>800000.0</td>\n",
       "    </tr>\n",
       "    <tr>\n",
       "      <th>5</th>\n",
       "      <td>2.0</td>\n",
       "      <td>1.0</td>\n",
       "      <td>1000</td>\n",
       "      <td>Rural</td>\n",
       "      <td>1995.0</td>\n",
       "      <td>350000.0</td>\n",
       "    </tr>\n",
       "  </tbody>\n",
       "</table>\n",
       "</div>"
      ],
      "text/plain": [
       "   Rooms  Bathrooms  Square_Footage Neighborhood  Year_Built     Price\n",
       "0    3.0        2.0            1500    Amaravati      1990.0  500000.0\n",
       "1    4.0        3.0            2000       Wardha      2005.0  600000.0\n",
       "2    2.0        1.0            1200        Rural      1980.0  450000.0\n",
       "3    5.0        4.0            2500       Market      2010.0  700000.0\n",
       "4    3.0        2.0            1800     Jabalpur      2000.0  800000.0\n",
       "5    2.0        1.0            1000        Rural      1995.0  350000.0"
      ]
     },
     "execution_count": 19,
     "metadata": {},
     "output_type": "execute_result"
    }
   ],
   "source": [
    "#removing rows with missing values\n",
    "house_data.dropna()"
   ]
  },
  {
   "cell_type": "code",
   "execution_count": 20,
   "id": "e35ea854-873b-4fca-80fc-282bb9146f9c",
   "metadata": {},
   "outputs": [
    {
     "data": {
      "text/html": [
       "<div>\n",
       "<style scoped>\n",
       "    .dataframe tbody tr th:only-of-type {\n",
       "        vertical-align: middle;\n",
       "    }\n",
       "\n",
       "    .dataframe tbody tr th {\n",
       "        vertical-align: top;\n",
       "    }\n",
       "\n",
       "    .dataframe thead th {\n",
       "        text-align: right;\n",
       "    }\n",
       "</style>\n",
       "<table border=\"1\" class=\"dataframe\">\n",
       "  <thead>\n",
       "    <tr style=\"text-align: right;\">\n",
       "      <th></th>\n",
       "      <th>Rooms</th>\n",
       "      <th>Bathrooms</th>\n",
       "      <th>Square_Footage</th>\n",
       "      <th>Neighborhood</th>\n",
       "      <th>Year_Built</th>\n",
       "      <th>Price</th>\n",
       "    </tr>\n",
       "  </thead>\n",
       "  <tbody>\n",
       "    <tr>\n",
       "      <th>0</th>\n",
       "      <td>3.0</td>\n",
       "      <td>2.0</td>\n",
       "      <td>1500</td>\n",
       "      <td>Amaravati</td>\n",
       "      <td>1990.0</td>\n",
       "      <td>500000.0</td>\n",
       "    </tr>\n",
       "    <tr>\n",
       "      <th>1</th>\n",
       "      <td>4.0</td>\n",
       "      <td>3.0</td>\n",
       "      <td>2000</td>\n",
       "      <td>Wardha</td>\n",
       "      <td>2005.0</td>\n",
       "      <td>600000.0</td>\n",
       "    </tr>\n",
       "    <tr>\n",
       "      <th>2</th>\n",
       "      <td>2.0</td>\n",
       "      <td>1.0</td>\n",
       "      <td>1200</td>\n",
       "      <td>Rural</td>\n",
       "      <td>1980.0</td>\n",
       "      <td>450000.0</td>\n",
       "    </tr>\n",
       "    <tr>\n",
       "      <th>3</th>\n",
       "      <td>5.0</td>\n",
       "      <td>4.0</td>\n",
       "      <td>2500</td>\n",
       "      <td>Market</td>\n",
       "      <td>2010.0</td>\n",
       "      <td>700000.0</td>\n",
       "    </tr>\n",
       "    <tr>\n",
       "      <th>4</th>\n",
       "      <td>3.0</td>\n",
       "      <td>2.0</td>\n",
       "      <td>1800</td>\n",
       "      <td>Jabalpur</td>\n",
       "      <td>2000.0</td>\n",
       "      <td>800000.0</td>\n",
       "    </tr>\n",
       "    <tr>\n",
       "      <th>5</th>\n",
       "      <td>2.0</td>\n",
       "      <td>1.0</td>\n",
       "      <td>1000</td>\n",
       "      <td>Rural</td>\n",
       "      <td>1995.0</td>\n",
       "      <td>350000.0</td>\n",
       "    </tr>\n",
       "    <tr>\n",
       "      <th>6</th>\n",
       "      <td>NaN</td>\n",
       "      <td>2.0</td>\n",
       "      <td>1700</td>\n",
       "      <td>MP</td>\n",
       "      <td>NaN</td>\n",
       "      <td>550000.0</td>\n",
       "    </tr>\n",
       "    <tr>\n",
       "      <th>7</th>\n",
       "      <td>4.0</td>\n",
       "      <td>NaN</td>\n",
       "      <td>2100</td>\n",
       "      <td>Nagpur</td>\n",
       "      <td>2015.0</td>\n",
       "      <td>NaN</td>\n",
       "    </tr>\n",
       "  </tbody>\n",
       "</table>\n",
       "</div>"
      ],
      "text/plain": [
       "   Rooms  Bathrooms  Square_Footage Neighborhood  Year_Built     Price\n",
       "0    3.0        2.0            1500    Amaravati      1990.0  500000.0\n",
       "1    4.0        3.0            2000       Wardha      2005.0  600000.0\n",
       "2    2.0        1.0            1200        Rural      1980.0  450000.0\n",
       "3    5.0        4.0            2500       Market      2010.0  700000.0\n",
       "4    3.0        2.0            1800     Jabalpur      2000.0  800000.0\n",
       "5    2.0        1.0            1000        Rural      1995.0  350000.0\n",
       "6    NaN        2.0            1700           MP         NaN  550000.0\n",
       "7    4.0        NaN            2100       Nagpur      2015.0       NaN"
      ]
     },
     "execution_count": 20,
     "metadata": {},
     "output_type": "execute_result"
    }
   ],
   "source": [
    "#nan values\n",
    "house_data.dropna(thresh=2)"
   ]
  },
  {
   "cell_type": "code",
   "execution_count": null,
   "id": "892dd232-fbe3-48c3-8381-8484cebd6c58",
   "metadata": {},
   "outputs": [],
   "source": [
    "fillna()"
   ]
  },
  {
   "cell_type": "code",
   "execution_count": 21,
   "id": "205d43eb-bb18-4cad-b227-0576d997e8d8",
   "metadata": {},
   "outputs": [],
   "source": [
    "# replacing missing values in the Rooms column with the mean of the column\n",
    "house_data['Rooms'].fillna(house_data['Rooms'].mean(), inplace=True)\n",
    "\n",
    "\n"
   ]
  },
  {
   "cell_type": "code",
   "execution_count": 22,
   "id": "a86a0e59-b4f8-4757-8c43-a1732f9db2e4",
   "metadata": {},
   "outputs": [
    {
     "name": "stdout",
     "output_type": "stream",
     "text": [
      "      Rooms  Bathrooms  Square_Footage Neighborhood  Year_Built     Price\n",
      "0  3.000000        2.0            1500    Amaravati      1990.0  500000.0\n",
      "1  4.000000        3.0            2000       Wardha      2005.0  600000.0\n",
      "2  2.000000        1.0            1200        Rural      1980.0  450000.0\n",
      "3  5.000000        4.0            2500       Market      2010.0  700000.0\n",
      "4  3.000000        2.0            1800     Jabalpur      2000.0  800000.0\n",
      "5  2.000000        1.0            1000        Rural      1995.0  350000.0\n",
      "6  3.285714        2.0            1700           MP         NaN  550000.0\n",
      "7  4.000000        NaN            2100       Nagpur      2015.0       NaN\n"
     ]
    }
   ],
   "source": [
    "print(house_data)\n"
   ]
  },
  {
   "cell_type": "code",
   "execution_count": 26,
   "id": "52217bba-0a06-43e8-8d5e-36985bdbc625",
   "metadata": {},
   "outputs": [],
   "source": [
    "house_data['Bathrooms'].fillna(house_data['Bathrooms'].median(), inplace=True)"
   ]
  },
  {
   "cell_type": "code",
   "execution_count": 24,
   "id": "fa18b335-c6f4-43c4-9702-25cb8786ccca",
   "metadata": {},
   "outputs": [
    {
     "name": "stdout",
     "output_type": "stream",
     "text": [
      "      Rooms  Bathrooms  Square_Footage Neighborhood  Year_Built     Price\n",
      "0  3.000000        2.0            1500    Amaravati      1990.0  500000.0\n",
      "1  4.000000        3.0            2000       Wardha      2005.0  600000.0\n",
      "2  2.000000        1.0            1200        Rural      1980.0  450000.0\n",
      "3  5.000000        4.0            2500       Market      2010.0  700000.0\n",
      "4  3.000000        2.0            1800     Jabalpur      2000.0  800000.0\n",
      "5  2.000000        1.0            1000        Rural      1995.0  350000.0\n",
      "6  3.285714        2.0            1700           MP         NaN  550000.0\n",
      "7  4.000000        NaN            2100       Nagpur      2015.0       NaN\n"
     ]
    }
   ],
   "source": [
    "print(house_data)"
   ]
  },
  {
   "cell_type": "code",
   "execution_count": null,
   "id": "8569febc-28fa-44d7-93c6-45750987d758",
   "metadata": {},
   "outputs": [],
   "source": [
    "replace()"
   ]
  },
  {
   "cell_type": "code",
   "execution_count": 27,
   "id": "dc98539f-d813-4496-b3cc-ae5ed798ce79",
   "metadata": {},
   "outputs": [],
   "source": [
    "# replacing categorical values with numeric data\n",
    "house_data['Neighborhood'] = house_data['Neighborhood'].replace({'Amaravati': 1, 'Wardha': 2, 'Rural': 3})\n"
   ]
  },
  {
   "cell_type": "code",
   "execution_count": 28,
   "id": "ba8eb65d-3002-4330-80eb-4f5fb7b49d70",
   "metadata": {},
   "outputs": [
    {
     "name": "stdout",
     "output_type": "stream",
     "text": [
      "      Rooms  Bathrooms  Square_Footage Neighborhood  Year_Built     Price\n",
      "0  3.000000   2.000000            1500            1      1990.0  500000.0\n",
      "1  4.000000   3.000000            2000            2      2005.0  600000.0\n",
      "2  2.000000   1.000000            1200            3      1980.0  450000.0\n",
      "3  5.000000   4.000000            2500       Market      2010.0  700000.0\n",
      "4  3.000000   2.000000            1800     Jabalpur      2000.0  800000.0\n",
      "5  2.000000   1.000000            1000            3      1995.0  350000.0\n",
      "6  3.285714   2.000000            1700           MP         NaN  550000.0\n",
      "7  4.000000   3.142857            2100       Nagpur      2015.0       NaN\n"
     ]
    }
   ],
   "source": [
    "print(house_data)"
   ]
  },
  {
   "cell_type": "code",
   "execution_count": null,
   "id": "d3f27670-6d7a-4483-9e99-53a6d6a6d698",
   "metadata": {},
   "outputs": [],
   "source": [
    "category()"
   ]
  },
  {
   "cell_type": "code",
   "execution_count": 29,
   "id": "3202a3f3-b6ad-4473-a549-a7f52e724801",
   "metadata": {},
   "outputs": [],
   "source": [
    "# converting Neighborhood column to a categorical data type\n",
    "house_data['Neighborhood'] = house_data['Neighborhood'].astype('category')\n"
   ]
  },
  {
   "cell_type": "code",
   "execution_count": 30,
   "id": "ab032cdf-e9a2-4a56-a0a1-5283556beeff",
   "metadata": {},
   "outputs": [
    {
     "name": "stdout",
     "output_type": "stream",
     "text": [
      "Rooms              float64\n",
      "Bathrooms          float64\n",
      "Square_Footage       int64\n",
      "Neighborhood      category\n",
      "Year_Built         float64\n",
      "Price              float64\n",
      "dtype: object\n"
     ]
    }
   ],
   "source": [
    "print(house_data.dtypes)"
   ]
  },
  {
   "cell_type": "code",
   "execution_count": 31,
   "id": "2b9116ee-528e-4304-b21d-63e721e8b0f0",
   "metadata": {},
   "outputs": [],
   "source": [
    "neighborhood_dummies = pd.get_dummies(house_data['Neighborhood'], prefix='Neighborhood')\n",
    "\n"
   ]
  },
  {
   "cell_type": "code",
   "execution_count": 32,
   "id": "15306916-2c6c-4b0c-934b-ba8012885a1f",
   "metadata": {},
   "outputs": [],
   "source": [
    "house_data = pd.concat([house_data, neighborhood_dummies], axis=1)"
   ]
  },
  {
   "cell_type": "code",
   "execution_count": 33,
   "id": "ce83ad4c-ac4d-457a-9aac-73155e065ee6",
   "metadata": {},
   "outputs": [
    {
     "name": "stdout",
     "output_type": "stream",
     "text": [
      "      Rooms  Bathrooms  Square_Footage Neighborhood  Year_Built     Price  \\\n",
      "0  3.000000   2.000000            1500            1      1990.0  500000.0   \n",
      "1  4.000000   3.000000            2000            2      2005.0  600000.0   \n",
      "2  2.000000   1.000000            1200            3      1980.0  450000.0   \n",
      "3  5.000000   4.000000            2500       Market      2010.0  700000.0   \n",
      "4  3.000000   2.000000            1800     Jabalpur      2000.0  800000.0   \n",
      "5  2.000000   1.000000            1000            3      1995.0  350000.0   \n",
      "6  3.285714   2.000000            1700           MP         NaN  550000.0   \n",
      "7  4.000000   3.142857            2100       Nagpur      2015.0       NaN   \n",
      "\n",
      "   Neighborhood_1  Neighborhood_2  Neighborhood_3  Neighborhood_Jabalpur  \\\n",
      "0               1               0               0                      0   \n",
      "1               0               1               0                      0   \n",
      "2               0               0               1                      0   \n",
      "3               0               0               0                      0   \n",
      "4               0               0               0                      1   \n",
      "5               0               0               1                      0   \n",
      "6               0               0               0                      0   \n",
      "7               0               0               0                      0   \n",
      "\n",
      "   Neighborhood_MP  Neighborhood_Market  Neighborhood_Nagpur  \n",
      "0                0                    0                    0  \n",
      "1                0                    0                    0  \n",
      "2                0                    0                    0  \n",
      "3                0                    1                    0  \n",
      "4                0                    0                    0  \n",
      "5                0                    0                    0  \n",
      "6                1                    0                    0  \n",
      "7                0                    0                    1  \n"
     ]
    }
   ],
   "source": [
    "print(house_data)"
   ]
  },
  {
   "cell_type": "code",
   "execution_count": null,
   "id": "cb490b46-9562-44cf-bb90-814111d1163d",
   "metadata": {},
   "outputs": [],
   "source": []
  }
 ],
 "metadata": {
  "kernelspec": {
   "display_name": "Python 3 (ipykernel)",
   "language": "python",
   "name": "python3"
  },
  "language_info": {
   "codemirror_mode": {
    "name": "ipython",
    "version": 3
   },
   "file_extension": ".py",
   "mimetype": "text/x-python",
   "name": "python",
   "nbconvert_exporter": "python",
   "pygments_lexer": "ipython3",
   "version": "3.9.13"
  }
 },
 "nbformat": 4,
 "nbformat_minor": 5
}
